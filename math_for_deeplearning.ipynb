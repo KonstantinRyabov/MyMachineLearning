{
 "cells": [
  {
   "cell_type": "code",
   "execution_count": 2,
   "metadata": {},
   "outputs": [],
   "source": [
    "from typing import Callable\n",
    "import numpy as np\n",
    "from numpy import ndarray\n",
    "from typing import List"
   ]
  },
  {
   "cell_type": "code",
   "execution_count": 3,
   "metadata": {},
   "outputs": [],
   "source": [
    "def sigmoid(x: ndarray) -> ndarray:\n",
    "    return 1 / (1 + np.exp(-x))\n",
    "\n",
    "def square(x: ndarray) -> ndarray:\n",
    "    return np.power(x, 2)"
   ]
  },
  {
   "cell_type": "code",
   "execution_count": 10,
   "metadata": {},
   "outputs": [
    {
     "data": {
      "text/plain": [
       "array([20., 40., 60.])"
      ]
     },
     "execution_count": 10,
     "metadata": {},
     "output_type": "execute_result"
    }
   ],
   "source": [
    "# производная\n",
    "def deriv(func: Callable[[ndarray], ndarray], input_:ndarray,delta: float = 0.001) -> ndarray:\n",
    "    return (func(input_+ delta) - func(input_ - delta)) / (2 * delta)\n",
    "\n",
    "deriv(square, np.array([10, 20, 30]))"
   ]
  },
  {
   "cell_type": "code",
   "execution_count": 7,
   "metadata": {},
   "outputs": [
    {
     "data": {
      "text/plain": [
       "array([  16,  256, 4096], dtype=int32)"
      ]
     },
     "execution_count": 7,
     "metadata": {},
     "output_type": "execute_result"
    }
   ],
   "source": [
    "# вложенные функции\n",
    "Array_Function = Callable[[ndarray], ndarray]\n",
    "Chain = List[Array_Function]\n",
    "\n",
    "def chain_length_2(chain: Chain, x: ndarray) -> ndarray:\n",
    "    f1 = chain[0]\n",
    "    f2 = chain[1]\n",
    "    return f2(f1(x))\n",
    "\n",
    "list_func = [square, square]\n",
    "chain_length_2(list_func, np.array([2,4,8]))"
   ]
  },
  {
   "cell_type": "code",
   "execution_count": 25,
   "metadata": {},
   "outputs": [
    {
     "data": {
      "text/plain": [
       "array([0.28697917, 0.06690677, 0.02606186])"
      ]
     },
     "execution_count": 25,
     "metadata": {},
     "output_type": "execute_result"
    }
   ],
   "source": [
    "def chain_deriv_3(chain: Chain,\n",
    "                  input_range: ndarray) -> ndarray:\n",
    "\n",
    "    f1 = chain[0]\n",
    "    f2 = chain[1]\n",
    "    f3 = chain[2]\n",
    "\n",
    "    # f1(x)\n",
    "    f1_of_x = f1(input_range)\n",
    "\n",
    "    # f2(f1(x))\n",
    "    f2_of_x = f2(f1_of_x)\n",
    "\n",
    "    # df3du\n",
    "    df3du = deriv(f3, f2_of_x)\n",
    "\n",
    "    # df2du\n",
    "    df2du = deriv(f2, f1_of_x)\n",
    "\n",
    "    # df1dx\n",
    "    df1dx = deriv(f1, input_range)\n",
    "    return df1dx * df2du * df3du\n",
    "\n",
    "list_func = [sigmoid, square, square]\n",
    "chain_deriv_3(list_func, np.array([2,4,5]))"
   ]
  },
  {
   "cell_type": "code",
   "execution_count": 33,
   "metadata": {},
   "outputs": [
    {
     "data": {
      "text/plain": [
       "(array([6.14413792e-06, 8.31527458e-07, 1.23379370e-04]),\n",
       " array([6.14413792e-06, 8.31527458e-07, 1.23379370e-04]))"
      ]
     },
     "execution_count": 33,
     "metadata": {},
     "output_type": "execute_result"
    }
   ],
   "source": [
    "def multiple_inputs_add_backward(x: ndarray,\n",
    "                                 y: ndarray,\n",
    "                                 sigma: Array_Function) -> float:\n",
    "    a = x + y\n",
    "\n",
    "    dsda = deriv(sigma, a)\n",
    "\n",
    "    dadx, dady = 1, 1\n",
    "\n",
    "    return dsda * dadx, dsda * dady\n",
    "\n",
    "multiple_inputs_add_backward(np.array([4,5,6]), np.array([8,9,3]), sigmoid)"
   ]
  },
  {
   "cell_type": "code",
   "execution_count": 11,
   "metadata": {},
   "outputs": [],
   "source": [
    "def matrix_function_backward_sum_1(X: ndarray,\n",
    "                                W: ndarray,\n",
    "                                sigma: Array_Function) -> ndarray:\n",
    "\n",
    "    N = np.dot(X, W)\n",
    "    S = sigma(N)\n",
    "    L = np.sum(S)\n",
    "\n",
    "    dLdS = np.ones_like(S)\n",
    "    dSdN = deriv(sigma, N)\n",
    "    dLdN = dLdS * dSdN\n",
    "    dNdX = np.transpose(W, (1, 0))\n",
    "    dLdX = np.dot(dLdN, dNdX)\n",
    "\n",
    "    return dLdX"
   ]
  },
  {
   "cell_type": "code",
   "execution_count": 12,
   "metadata": {},
   "outputs": [
    {
     "data": {
      "text/plain": [
       "array([[ 0.2488887 , -0.37478057,  0.01121962],\n",
       "       [ 0.12604152, -0.27807404, -0.13945837],\n",
       "       [ 0.22992798, -0.36623443, -0.02252592]])"
      ]
     },
     "execution_count": 12,
     "metadata": {},
     "output_type": "execute_result"
    }
   ],
   "source": [
    "np.random.seed(190204)\n",
    "X = np.random.randn(3, 3)\n",
    "W = np.random.randn(3, 2)\n",
    "\n",
    "matrix_function_backward_sum_1(X, W , sigmoid)"
   ]
  }
 ],
 "metadata": {
  "kernelspec": {
   "display_name": "Python 3",
   "language": "python",
   "name": "python3"
  },
  "language_info": {
   "codemirror_mode": {
    "name": "ipython",
    "version": 3
   },
   "file_extension": ".py",
   "mimetype": "text/x-python",
   "name": "python",
   "nbconvert_exporter": "python",
   "pygments_lexer": "ipython3",
   "version": "3.10.11"
  }
 },
 "nbformat": 4,
 "nbformat_minor": 2
}
