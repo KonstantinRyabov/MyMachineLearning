{
 "cells": [
  {
   "cell_type": "code",
   "execution_count": 2,
   "metadata": {},
   "outputs": [],
   "source": [
    "from typing import Callable\n",
    "import numpy as np\n",
    "from numpy import ndarray\n",
    "from typing import List"
   ]
  },
  {
   "cell_type": "code",
   "execution_count": 4,
   "metadata": {},
   "outputs": [
    {
     "data": {
      "text/plain": [
       "array([20., 40., 60.])"
      ]
     },
     "execution_count": 4,
     "metadata": {},
     "output_type": "execute_result"
    }
   ],
   "source": [
    "def square(x: ndarray) -> ndarray:\n",
    "    return np.power(x, 2)\n",
    "\n",
    "# производная\n",
    "def deriv(func: Callable[[ndarray], ndarray], input_:ndarray,delta: float = 0.001) -> ndarray:\n",
    "    return (func(input_+ delta) - func(input_ - delta)) / (2 * delta)\n",
    "\n",
    "deriv(square, np.array([10, 20, 30]))"
   ]
  },
  {
   "cell_type": "code",
   "execution_count": 8,
   "metadata": {},
   "outputs": [
    {
     "data": {
      "text/plain": [
       "array([  16,  256, 4096], dtype=int32)"
      ]
     },
     "execution_count": 8,
     "metadata": {},
     "output_type": "execute_result"
    }
   ],
   "source": [
    "# вложенные функции\n",
    "Array_Function = Callable[[ndarray], ndarray]\n",
    "Chain = List[Array_Function]\n",
    "\n",
    "def chain_length_2(chain: Chain, x: ndarray) -> ndarray:\n",
    "    f1 = chain[0]\n",
    "    f2 = chain[1]\n",
    "    return f2(f1(x))\n",
    "\n",
    "list_func = [square, square]\n",
    "chain_length_2(list_func, np.array([2,4,8]))"
   ]
  }
 ],
 "metadata": {
  "kernelspec": {
   "display_name": "Python 3",
   "language": "python",
   "name": "python3"
  },
  "language_info": {
   "codemirror_mode": {
    "name": "ipython",
    "version": 3
   },
   "file_extension": ".py",
   "mimetype": "text/x-python",
   "name": "python",
   "nbconvert_exporter": "python",
   "pygments_lexer": "ipython3",
   "version": "3.10.11"
  }
 },
 "nbformat": 4,
 "nbformat_minor": 2
}
